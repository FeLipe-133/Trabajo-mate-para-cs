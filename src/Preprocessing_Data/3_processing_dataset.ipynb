{
 "cells": [
  {
   "cell_type": "code",
   "execution_count": 1,
   "metadata": {},
   "outputs": [
    {
     "name": "stdout",
     "output_type": "stream",
     "text": [
      "Requirement already satisfied: scikit-learn in c:\\users\\leolu\\appdata\\local\\programs\\python\\python312\\lib\\site-packages (1.5.2)\n",
      "Requirement already satisfied: numpy>=1.19.5 in c:\\users\\leolu\\appdata\\local\\programs\\python\\python312\\lib\\site-packages (from scikit-learn) (2.1.0)\n",
      "Requirement already satisfied: scipy>=1.6.0 in c:\\users\\leolu\\appdata\\local\\programs\\python\\python312\\lib\\site-packages (from scikit-learn) (1.14.1)\n",
      "Requirement already satisfied: joblib>=1.2.0 in c:\\users\\leolu\\appdata\\local\\programs\\python\\python312\\lib\\site-packages (from scikit-learn) (1.4.2)\n",
      "Requirement already satisfied: threadpoolctl>=3.1.0 in c:\\users\\leolu\\appdata\\local\\programs\\python\\python312\\lib\\site-packages (from scikit-learn) (3.5.0)\n"
     ]
    },
    {
     "name": "stderr",
     "output_type": "stream",
     "text": [
      "\n",
      "[notice] A new release of pip is available: 24.2 -> 24.3.1\n",
      "[notice] To update, run: python.exe -m pip install --upgrade pip\n"
     ]
    }
   ],
   "source": [
    "import pandas as pd\n",
    "!pip install scikit-learn"
   ]
  },
  {
   "cell_type": "code",
   "execution_count": 2,
   "metadata": {},
   "outputs": [],
   "source": [
    "from sklearn.utils import shuffle\n",
    "from sklearn.model_selection import train_test_split\n",
    "import seaborn as sns\n",
    "from sklearn.preprocessing   import MaxAbsScaler\n",
    "from joblib import dump"
   ]
  },
  {
   "cell_type": "code",
   "execution_count": 3,
   "metadata": {},
   "outputs": [
    {
     "data": {
      "text/html": [
       "<div>\n",
       "<style scoped>\n",
       "    .dataframe tbody tr th:only-of-type {\n",
       "        vertical-align: middle;\n",
       "    }\n",
       "\n",
       "    .dataframe tbody tr th {\n",
       "        vertical-align: top;\n",
       "    }\n",
       "\n",
       "    .dataframe thead th {\n",
       "        text-align: right;\n",
       "    }\n",
       "</style>\n",
       "<table border=\"1\" class=\"dataframe\">\n",
       "  <thead>\n",
       "    <tr style=\"text-align: right;\">\n",
       "      <th></th>\n",
       "      <th>Pregnancies</th>\n",
       "      <th>Glucose</th>\n",
       "      <th>BloodPressure</th>\n",
       "      <th>SkinThickness</th>\n",
       "      <th>Insulin</th>\n",
       "      <th>BMI</th>\n",
       "      <th>DiabetesPedigreeFunction</th>\n",
       "      <th>Age</th>\n",
       "      <th>Outcome</th>\n",
       "    </tr>\n",
       "  </thead>\n",
       "  <tbody>\n",
       "    <tr>\n",
       "      <th>0</th>\n",
       "      <td>6</td>\n",
       "      <td>148.0</td>\n",
       "      <td>72.0</td>\n",
       "      <td>35.000000</td>\n",
       "      <td>79.799479</td>\n",
       "      <td>33.6</td>\n",
       "      <td>0.627</td>\n",
       "      <td>50</td>\n",
       "      <td>1</td>\n",
       "    </tr>\n",
       "    <tr>\n",
       "      <th>1</th>\n",
       "      <td>1</td>\n",
       "      <td>85.0</td>\n",
       "      <td>66.0</td>\n",
       "      <td>29.000000</td>\n",
       "      <td>79.799479</td>\n",
       "      <td>26.6</td>\n",
       "      <td>0.351</td>\n",
       "      <td>31</td>\n",
       "      <td>0</td>\n",
       "    </tr>\n",
       "    <tr>\n",
       "      <th>2</th>\n",
       "      <td>8</td>\n",
       "      <td>183.0</td>\n",
       "      <td>64.0</td>\n",
       "      <td>20.536458</td>\n",
       "      <td>79.799479</td>\n",
       "      <td>23.3</td>\n",
       "      <td>0.672</td>\n",
       "      <td>32</td>\n",
       "      <td>1</td>\n",
       "    </tr>\n",
       "    <tr>\n",
       "      <th>3</th>\n",
       "      <td>1</td>\n",
       "      <td>89.0</td>\n",
       "      <td>66.0</td>\n",
       "      <td>23.000000</td>\n",
       "      <td>94.000000</td>\n",
       "      <td>28.1</td>\n",
       "      <td>0.167</td>\n",
       "      <td>21</td>\n",
       "      <td>0</td>\n",
       "    </tr>\n",
       "    <tr>\n",
       "      <th>4</th>\n",
       "      <td>5</td>\n",
       "      <td>116.0</td>\n",
       "      <td>74.0</td>\n",
       "      <td>20.536458</td>\n",
       "      <td>79.799479</td>\n",
       "      <td>25.6</td>\n",
       "      <td>0.201</td>\n",
       "      <td>30</td>\n",
       "      <td>0</td>\n",
       "    </tr>\n",
       "  </tbody>\n",
       "</table>\n",
       "</div>"
      ],
      "text/plain": [
       "   Pregnancies  Glucose  BloodPressure  SkinThickness    Insulin   BMI  \\\n",
       "0            6    148.0           72.0      35.000000  79.799479  33.6   \n",
       "1            1     85.0           66.0      29.000000  79.799479  26.6   \n",
       "2            8    183.0           64.0      20.536458  79.799479  23.3   \n",
       "3            1     89.0           66.0      23.000000  94.000000  28.1   \n",
       "4            5    116.0           74.0      20.536458  79.799479  25.6   \n",
       "\n",
       "   DiabetesPedigreeFunction  Age  Outcome  \n",
       "0                     0.627   50        1  \n",
       "1                     0.351   31        0  \n",
       "2                     0.672   32        1  \n",
       "3                     0.167   21        0  \n",
       "4                     0.201   30        0  "
      ]
     },
     "execution_count": 3,
     "metadata": {},
     "output_type": "execute_result"
    }
   ],
   "source": [
    "df_data = pd.read_csv(\"../../results/3_data_coded.csv\")\n",
    "df_data.head(5)"
   ]
  },
  {
   "cell_type": "code",
   "execution_count": 4,
   "metadata": {},
   "outputs": [
    {
     "data": {
      "text/plain": [
       "Outcome\n",
       "0    426\n",
       "1    193\n",
       "Name: count, dtype: int64"
      ]
     },
     "execution_count": 4,
     "metadata": {},
     "output_type": "execute_result"
    }
   ],
   "source": [
    "df_data['Outcome'].value_counts()"
   ]
  },
  {
   "cell_type": "code",
   "execution_count": 5,
   "metadata": {},
   "outputs": [
    {
     "data": {
      "text/plain": [
       "<Axes: xlabel='Insulin'>"
      ]
     },
     "execution_count": 5,
     "metadata": {},
     "output_type": "execute_result"
    },
    {
     "data": {
      "image/png": "[encoded data removed]",
      "text/plain": [
       "<Figure size 640x480 with 1 Axes>"
      ]
     },
     "metadata": {},
     "output_type": "display_data"
    }
   ],
   "source": [
    "sns.boxplot(data= df_data, x='Insulin', hue='Outcome', fill=False)"
   ]
  },
  {
   "cell_type": "code",
   "execution_count": 6,
   "metadata": {},
   "outputs": [],
   "source": [
    "df_data_positive = df_data[df_data[\"Outcome\"] == 1]\n",
    "df_data_negative = df_data[df_data[\"Outcome\"] == 0]"
   ]
  },
  {
   "cell_type": "code",
   "execution_count": 7,
   "metadata": {},
   "outputs": [],
   "source": [
    "df_data_negative = shuffle(df_data_negative, random_state=42)"
   ]
  },
  {
   "cell_type": "code",
   "execution_count": 8,
   "metadata": {},
   "outputs": [],
   "source": [
    "df_data_negative_filter = df_data_negative[:len(df_data_positive)]\n",
    "df_data_negative_filter2 = df_data_negative[len(df_data_positive):]\n"
   ]
  },
  {
   "cell_type": "code",
   "execution_count": 9,
   "metadata": {},
   "outputs": [],
   "source": [
    "df_data_negative_filter2.to_csv(\"../../results/4_testing_negatives.csv\", index=False)"
   ]
  },
  {
   "cell_type": "code",
   "execution_count": 10,
   "metadata": {},
   "outputs": [
    {
     "data": {
      "text/plain": [
       "(386, 9)"
      ]
     },
     "execution_count": 10,
     "metadata": {},
     "output_type": "execute_result"
    }
   ],
   "source": [
    "df_data_for_training = pd.concat([df_data_positive, df_data_negative_filter], axis=0)\n",
    "df_data_for_training.shape"
   ]
  },
  {
   "cell_type": "code",
   "execution_count": 11,
   "metadata": {},
   "outputs": [
    {
     "data": {
      "text/plain": [
       "(39, 9)"
      ]
     },
     "execution_count": 11,
     "metadata": {},
     "output_type": "execute_result"
    }
   ],
   "source": [
    "X_train, X_test = train_test_split(df_data_for_training, test_size=.1, random_state=42)\n",
    "X_test.shape"
   ]
  },
  {
   "cell_type": "code",
   "execution_count": 12,
   "metadata": {},
   "outputs": [],
   "source": [
    "X_test.to_csv(\"../../results/4_testing_mix.csv\", index= False)"
   ]
  },
  {
   "cell_type": "code",
   "execution_count": 13,
   "metadata": {},
   "outputs": [],
   "source": [
    "response = X_train[\"Outcome\"]\n",
    "X_values = X_train.drop(columns=[\"Outcome\"])"
   ]
  },
  {
   "cell_type": "code",
   "execution_count": 14,
   "metadata": {},
   "outputs": [
    {
     "data": {
      "text/html": [
       "<div>\n",
       "<style scoped>\n",
       "    .dataframe tbody tr th:only-of-type {\n",
       "        vertical-align: middle;\n",
       "    }\n",
       "\n",
       "    .dataframe tbody tr th {\n",
       "        vertical-align: top;\n",
       "    }\n",
       "\n",
       "    .dataframe thead th {\n",
       "        text-align: right;\n",
       "    }\n",
       "</style>\n",
       "<table border=\"1\" class=\"dataframe\">\n",
       "  <thead>\n",
       "    <tr style=\"text-align: right;\">\n",
       "      <th></th>\n",
       "      <th>Pregnancies</th>\n",
       "      <th>Glucose</th>\n",
       "      <th>BloodPressure</th>\n",
       "      <th>SkinThickness</th>\n",
       "      <th>Insulin</th>\n",
       "      <th>BMI</th>\n",
       "      <th>DiabetesPedigreeFunction</th>\n",
       "      <th>Age</th>\n",
       "    </tr>\n",
       "  </thead>\n",
       "  <tbody>\n",
       "    <tr>\n",
       "      <th>65</th>\n",
       "      <td>7</td>\n",
       "      <td>83.0</td>\n",
       "      <td>78.0</td>\n",
       "      <td>26.000000</td>\n",
       "      <td>71.000000</td>\n",
       "      <td>29.3</td>\n",
       "      <td>0.767</td>\n",
       "      <td>36</td>\n",
       "    </tr>\n",
       "    <tr>\n",
       "      <th>129</th>\n",
       "      <td>6</td>\n",
       "      <td>104.0</td>\n",
       "      <td>74.0</td>\n",
       "      <td>18.000000</td>\n",
       "      <td>156.000000</td>\n",
       "      <td>29.9</td>\n",
       "      <td>0.722</td>\n",
       "      <td>41</td>\n",
       "    </tr>\n",
       "    <tr>\n",
       "      <th>150</th>\n",
       "      <td>5</td>\n",
       "      <td>139.0</td>\n",
       "      <td>80.0</td>\n",
       "      <td>35.000000</td>\n",
       "      <td>160.000000</td>\n",
       "      <td>31.6</td>\n",
       "      <td>0.361</td>\n",
       "      <td>25</td>\n",
       "    </tr>\n",
       "    <tr>\n",
       "      <th>580</th>\n",
       "      <td>0</td>\n",
       "      <td>141.0</td>\n",
       "      <td>84.0</td>\n",
       "      <td>26.000000</td>\n",
       "      <td>79.799479</td>\n",
       "      <td>32.4</td>\n",
       "      <td>0.433</td>\n",
       "      <td>22</td>\n",
       "    </tr>\n",
       "    <tr>\n",
       "      <th>480</th>\n",
       "      <td>1</td>\n",
       "      <td>173.0</td>\n",
       "      <td>74.0</td>\n",
       "      <td>20.536458</td>\n",
       "      <td>79.799479</td>\n",
       "      <td>36.8</td>\n",
       "      <td>0.088</td>\n",
       "      <td>38</td>\n",
       "    </tr>\n",
       "    <tr>\n",
       "      <th>...</th>\n",
       "      <td>...</td>\n",
       "      <td>...</td>\n",
       "      <td>...</td>\n",
       "      <td>...</td>\n",
       "      <td>...</td>\n",
       "      <td>...</td>\n",
       "      <td>...</td>\n",
       "      <td>...</td>\n",
       "    </tr>\n",
       "    <tr>\n",
       "      <th>221</th>\n",
       "      <td>0</td>\n",
       "      <td>146.0</td>\n",
       "      <td>70.0</td>\n",
       "      <td>20.536458</td>\n",
       "      <td>79.799479</td>\n",
       "      <td>37.9</td>\n",
       "      <td>0.334</td>\n",
       "      <td>28</td>\n",
       "    </tr>\n",
       "    <tr>\n",
       "      <th>319</th>\n",
       "      <td>5</td>\n",
       "      <td>136.0</td>\n",
       "      <td>84.0</td>\n",
       "      <td>41.000000</td>\n",
       "      <td>88.000000</td>\n",
       "      <td>35.0</td>\n",
       "      <td>0.286</td>\n",
       "      <td>35</td>\n",
       "    </tr>\n",
       "    <tr>\n",
       "      <th>69</th>\n",
       "      <td>1</td>\n",
       "      <td>107.0</td>\n",
       "      <td>68.0</td>\n",
       "      <td>19.000000</td>\n",
       "      <td>79.799479</td>\n",
       "      <td>26.5</td>\n",
       "      <td>0.165</td>\n",
       "      <td>24</td>\n",
       "    </tr>\n",
       "    <tr>\n",
       "      <th>350</th>\n",
       "      <td>1</td>\n",
       "      <td>97.0</td>\n",
       "      <td>70.0</td>\n",
       "      <td>15.000000</td>\n",
       "      <td>79.799479</td>\n",
       "      <td>18.2</td>\n",
       "      <td>0.147</td>\n",
       "      <td>21</td>\n",
       "    </tr>\n",
       "    <tr>\n",
       "      <th>312</th>\n",
       "      <td>4</td>\n",
       "      <td>158.0</td>\n",
       "      <td>78.0</td>\n",
       "      <td>20.536458</td>\n",
       "      <td>79.799479</td>\n",
       "      <td>32.9</td>\n",
       "      <td>0.803</td>\n",
       "      <td>31</td>\n",
       "    </tr>\n",
       "  </tbody>\n",
       "</table>\n",
       "<p>347 rows × 8 columns</p>\n",
       "</div>"
      ],
      "text/plain": [
       "     Pregnancies  Glucose  BloodPressure  SkinThickness     Insulin   BMI  \\\n",
       "65             7     83.0           78.0      26.000000   71.000000  29.3   \n",
       "129            6    104.0           74.0      18.000000  156.000000  29.9   \n",
       "150            5    139.0           80.0      35.000000  160.000000  31.6   \n",
       "580            0    141.0           84.0      26.000000   79.799479  32.4   \n",
       "480            1    173.0           74.0      20.536458   79.799479  36.8   \n",
       "..           ...      ...            ...            ...         ...   ...   \n",
       "221            0    146.0           70.0      20.536458   79.799479  37.9   \n",
       "319            5    136.0           84.0      41.000000   88.000000  35.0   \n",
       "69             1    107.0           68.0      19.000000   79.799479  26.5   \n",
       "350            1     97.0           70.0      15.000000   79.799479  18.2   \n",
       "312            4    158.0           78.0      20.536458   79.799479  32.9   \n",
       "\n",
       "     DiabetesPedigreeFunction  Age  \n",
       "65                      0.767   36  \n",
       "129                     0.722   41  \n",
       "150                     0.361   25  \n",
       "580                     0.433   22  \n",
       "480                     0.088   38  \n",
       "..                        ...  ...  \n",
       "221                     0.334   28  \n",
       "319                     0.286   35  \n",
       "69                      0.165   24  \n",
       "350                     0.147   21  \n",
       "312                     0.803   31  \n",
       "\n",
       "[347 rows x 8 columns]"
      ]
     },
     "execution_count": 14,
     "metadata": {},
     "output_type": "execute_result"
    }
   ],
   "source": [
    "X_values_to_standarize = X_values[['Pregnancies', 'Glucose', 'BloodPressure', 'SkinThickness', 'Insulin',\n",
    "       'BMI', 'DiabetesPedigreeFunction', 'Age']]\n",
    "X_values_to_standarize"
   ]
  },
  {
   "cell_type": "code",
   "execution_count": 15,
   "metadata": {},
   "outputs": [
    {
     "data": {
      "text/html": [
       "<div>\n",
       "<style scoped>\n",
       "    .dataframe tbody tr th:only-of-type {\n",
       "        vertical-align: middle;\n",
       "    }\n",
       "\n",
       "    .dataframe tbody tr th {\n",
       "        vertical-align: top;\n",
       "    }\n",
       "\n",
       "    .dataframe thead th {\n",
       "        text-align: right;\n",
       "    }\n",
       "</style>\n",
       "<table border=\"1\" class=\"dataframe\">\n",
       "  <thead>\n",
       "    <tr style=\"text-align: right;\">\n",
       "      <th></th>\n",
       "      <th>Pregnancies</th>\n",
       "      <th>Glucose</th>\n",
       "      <th>BloodPressure</th>\n",
       "      <th>SkinThickness</th>\n",
       "      <th>Insulin</th>\n",
       "      <th>BMI</th>\n",
       "      <th>DiabetesPedigreeFunction</th>\n",
       "      <th>Age</th>\n",
       "    </tr>\n",
       "  </thead>\n",
       "  <tbody>\n",
       "    <tr>\n",
       "      <th>count</th>\n",
       "      <td>347.000000</td>\n",
       "      <td>347.000000</td>\n",
       "      <td>347.000000</td>\n",
       "      <td>347.000000</td>\n",
       "      <td>347.000000</td>\n",
       "      <td>347.000000</td>\n",
       "      <td>347.000000</td>\n",
       "      <td>347.000000</td>\n",
       "    </tr>\n",
       "    <tr>\n",
       "      <th>mean</th>\n",
       "      <td>4.112392</td>\n",
       "      <td>123.592748</td>\n",
       "      <td>72.698025</td>\n",
       "      <td>25.528458</td>\n",
       "      <td>93.586448</td>\n",
       "      <td>31.881204</td>\n",
       "      <td>0.434709</td>\n",
       "      <td>33.930836</td>\n",
       "    </tr>\n",
       "    <tr>\n",
       "      <th>std</th>\n",
       "      <td>3.415629</td>\n",
       "      <td>29.022384</td>\n",
       "      <td>11.044036</td>\n",
       "      <td>8.393653</td>\n",
       "      <td>33.906052</td>\n",
       "      <td>6.205643</td>\n",
       "      <td>0.250437</td>\n",
       "      <td>11.500483</td>\n",
       "    </tr>\n",
       "    <tr>\n",
       "      <th>min</th>\n",
       "      <td>0.000000</td>\n",
       "      <td>56.000000</td>\n",
       "      <td>44.000000</td>\n",
       "      <td>8.000000</td>\n",
       "      <td>16.000000</td>\n",
       "      <td>18.200000</td>\n",
       "      <td>0.085000</td>\n",
       "      <td>21.000000</td>\n",
       "    </tr>\n",
       "    <tr>\n",
       "      <th>25%</th>\n",
       "      <td>1.000000</td>\n",
       "      <td>102.000000</td>\n",
       "      <td>66.000000</td>\n",
       "      <td>20.536458</td>\n",
       "      <td>79.799479</td>\n",
       "      <td>27.450000</td>\n",
       "      <td>0.248500</td>\n",
       "      <td>24.000000</td>\n",
       "    </tr>\n",
       "    <tr>\n",
       "      <th>50%</th>\n",
       "      <td>3.000000</td>\n",
       "      <td>117.000000</td>\n",
       "      <td>72.000000</td>\n",
       "      <td>21.000000</td>\n",
       "      <td>79.799479</td>\n",
       "      <td>31.600000</td>\n",
       "      <td>0.347000</td>\n",
       "      <td>31.000000</td>\n",
       "    </tr>\n",
       "    <tr>\n",
       "      <th>75%</th>\n",
       "      <td>7.000000</td>\n",
       "      <td>142.000000</td>\n",
       "      <td>80.000000</td>\n",
       "      <td>31.000000</td>\n",
       "      <td>100.000000</td>\n",
       "      <td>35.400000</td>\n",
       "      <td>0.587500</td>\n",
       "      <td>41.000000</td>\n",
       "    </tr>\n",
       "    <tr>\n",
       "      <th>max</th>\n",
       "      <td>13.000000</td>\n",
       "      <td>197.000000</td>\n",
       "      <td>104.000000</td>\n",
       "      <td>49.000000</td>\n",
       "      <td>196.000000</td>\n",
       "      <td>50.000000</td>\n",
       "      <td>1.191000</td>\n",
       "      <td>66.000000</td>\n",
       "    </tr>\n",
       "  </tbody>\n",
       "</table>\n",
       "</div>"
      ],
      "text/plain": [
       "       Pregnancies     Glucose  BloodPressure  SkinThickness     Insulin  \\\n",
       "count   347.000000  347.000000     347.000000     347.000000  347.000000   \n",
       "mean      4.112392  123.592748      72.698025      25.528458   93.586448   \n",
       "std       3.415629   29.022384      11.044036       8.393653   33.906052   \n",
       "min       0.000000   56.000000      44.000000       8.000000   16.000000   \n",
       "25%       1.000000  102.000000      66.000000      20.536458   79.799479   \n",
       "50%       3.000000  117.000000      72.000000      21.000000   79.799479   \n",
       "75%       7.000000  142.000000      80.000000      31.000000  100.000000   \n",
       "max      13.000000  197.000000     104.000000      49.000000  196.000000   \n",
       "\n",
       "              BMI  DiabetesPedigreeFunction         Age  \n",
       "count  347.000000                347.000000  347.000000  \n",
       "mean    31.881204                  0.434709   33.930836  \n",
       "std      6.205643                  0.250437   11.500483  \n",
       "min     18.200000                  0.085000   21.000000  \n",
       "25%     27.450000                  0.248500   24.000000  \n",
       "50%     31.600000                  0.347000   31.000000  \n",
       "75%     35.400000                  0.587500   41.000000  \n",
       "max     50.000000                  1.191000   66.000000  "
      ]
     },
     "execution_count": 15,
     "metadata": {},
     "output_type": "execute_result"
    }
   ],
   "source": [
    "X_values_to_standarize.describe()"
   ]
  },
  {
   "cell_type": "code",
   "execution_count": 16,
   "metadata": {},
   "outputs": [
    {
     "data": {
      "text/plain": [
       "<Axes: xlabel='Age', ylabel='Count'>"
      ]
     },
     "execution_count": 16,
     "metadata": {},
     "output_type": "execute_result"
    },
    {
     "data": {
      "image/png": "[encoded data removed]",
      "text/plain": [
       "<Figure size 640x480 with 1 Axes>"
      ]
     },
     "metadata": {},
     "output_type": "display_data"
    }
   ],
   "source": [
    "sns.histplot(data = X_values_to_standarize, x='Age')"
   ]
  },
  {
   "cell_type": "code",
   "execution_count": 17,
   "metadata": {},
   "outputs": [],
   "source": [
    "scaler_instance = MaxAbsScaler()\n",
    "scaler_instance.fit(X_values_to_standarize.values)\n",
    "X_values_to_standarize_scaler = scaler_instance.transform(X_values_to_standarize.values)\n"
   ]
  },
  {
   "cell_type": "code",
   "execution_count": 18,
   "metadata": {},
   "outputs": [
    {
     "data": {
      "text/html": [
       "<div>\n",
       "<style scoped>\n",
       "    .dataframe tbody tr th:only-of-type {\n",
       "        vertical-align: middle;\n",
       "    }\n",
       "\n",
       "    .dataframe tbody tr th {\n",
       "        vertical-align: top;\n",
       "    }\n",
       "\n",
       "    .dataframe thead th {\n",
       "        text-align: right;\n",
       "    }\n",
       "</style>\n",
       "<table border=\"1\" class=\"dataframe\">\n",
       "  <thead>\n",
       "    <tr style=\"text-align: right;\">\n",
       "      <th></th>\n",
       "      <th>Pregnancies</th>\n",
       "      <th>Glucose</th>\n",
       "      <th>BloodPressure</th>\n",
       "      <th>SkinThickness</th>\n",
       "      <th>Insulin</th>\n",
       "      <th>BMI</th>\n",
       "      <th>DiabetesPedigreeFunction</th>\n",
       "      <th>Age</th>\n",
       "    </tr>\n",
       "  </thead>\n",
       "  <tbody>\n",
       "    <tr>\n",
       "      <th>0</th>\n",
       "      <td>0.538462</td>\n",
       "      <td>0.421320</td>\n",
       "      <td>0.750000</td>\n",
       "      <td>0.530612</td>\n",
       "      <td>0.362245</td>\n",
       "      <td>0.586</td>\n",
       "      <td>0.643997</td>\n",
       "      <td>0.545455</td>\n",
       "    </tr>\n",
       "    <tr>\n",
       "      <th>1</th>\n",
       "      <td>0.461538</td>\n",
       "      <td>0.527919</td>\n",
       "      <td>0.711538</td>\n",
       "      <td>0.367347</td>\n",
       "      <td>0.795918</td>\n",
       "      <td>0.598</td>\n",
       "      <td>0.606213</td>\n",
       "      <td>0.621212</td>\n",
       "    </tr>\n",
       "    <tr>\n",
       "      <th>2</th>\n",
       "      <td>0.384615</td>\n",
       "      <td>0.705584</td>\n",
       "      <td>0.769231</td>\n",
       "      <td>0.714286</td>\n",
       "      <td>0.816327</td>\n",
       "      <td>0.632</td>\n",
       "      <td>0.303107</td>\n",
       "      <td>0.378788</td>\n",
       "    </tr>\n",
       "    <tr>\n",
       "      <th>3</th>\n",
       "      <td>0.000000</td>\n",
       "      <td>0.715736</td>\n",
       "      <td>0.807692</td>\n",
       "      <td>0.530612</td>\n",
       "      <td>0.407140</td>\n",
       "      <td>0.648</td>\n",
       "      <td>0.363560</td>\n",
       "      <td>0.333333</td>\n",
       "    </tr>\n",
       "    <tr>\n",
       "      <th>4</th>\n",
       "      <td>0.076923</td>\n",
       "      <td>0.878173</td>\n",
       "      <td>0.711538</td>\n",
       "      <td>0.419111</td>\n",
       "      <td>0.407140</td>\n",
       "      <td>0.736</td>\n",
       "      <td>0.073887</td>\n",
       "      <td>0.575758</td>\n",
       "    </tr>\n",
       "    <tr>\n",
       "      <th>...</th>\n",
       "      <td>...</td>\n",
       "      <td>...</td>\n",
       "      <td>...</td>\n",
       "      <td>...</td>\n",
       "      <td>...</td>\n",
       "      <td>...</td>\n",
       "      <td>...</td>\n",
       "      <td>...</td>\n",
       "    </tr>\n",
       "    <tr>\n",
       "      <th>342</th>\n",
       "      <td>0.000000</td>\n",
       "      <td>0.741117</td>\n",
       "      <td>0.673077</td>\n",
       "      <td>0.419111</td>\n",
       "      <td>0.407140</td>\n",
       "      <td>0.758</td>\n",
       "      <td>0.280437</td>\n",
       "      <td>0.424242</td>\n",
       "    </tr>\n",
       "    <tr>\n",
       "      <th>343</th>\n",
       "      <td>0.384615</td>\n",
       "      <td>0.690355</td>\n",
       "      <td>0.807692</td>\n",
       "      <td>0.836735</td>\n",
       "      <td>0.448980</td>\n",
       "      <td>0.700</td>\n",
       "      <td>0.240134</td>\n",
       "      <td>0.530303</td>\n",
       "    </tr>\n",
       "    <tr>\n",
       "      <th>344</th>\n",
       "      <td>0.076923</td>\n",
       "      <td>0.543147</td>\n",
       "      <td>0.653846</td>\n",
       "      <td>0.387755</td>\n",
       "      <td>0.407140</td>\n",
       "      <td>0.530</td>\n",
       "      <td>0.138539</td>\n",
       "      <td>0.363636</td>\n",
       "    </tr>\n",
       "    <tr>\n",
       "      <th>345</th>\n",
       "      <td>0.076923</td>\n",
       "      <td>0.492386</td>\n",
       "      <td>0.673077</td>\n",
       "      <td>0.306122</td>\n",
       "      <td>0.407140</td>\n",
       "      <td>0.364</td>\n",
       "      <td>0.123426</td>\n",
       "      <td>0.318182</td>\n",
       "    </tr>\n",
       "    <tr>\n",
       "      <th>346</th>\n",
       "      <td>0.307692</td>\n",
       "      <td>0.802030</td>\n",
       "      <td>0.750000</td>\n",
       "      <td>0.419111</td>\n",
       "      <td>0.407140</td>\n",
       "      <td>0.658</td>\n",
       "      <td>0.674223</td>\n",
       "      <td>0.469697</td>\n",
       "    </tr>\n",
       "  </tbody>\n",
       "</table>\n",
       "<p>347 rows × 8 columns</p>\n",
       "</div>"
      ],
      "text/plain": [
       "     Pregnancies   Glucose  BloodPressure  SkinThickness   Insulin    BMI  \\\n",
       "0       0.538462  0.421320       0.750000       0.530612  0.362245  0.586   \n",
       "1       0.461538  0.527919       0.711538       0.367347  0.795918  0.598   \n",
       "2       0.384615  0.705584       0.769231       0.714286  0.816327  0.632   \n",
       "3       0.000000  0.715736       0.807692       0.530612  0.407140  0.648   \n",
       "4       0.076923  0.878173       0.711538       0.419111  0.407140  0.736   \n",
       "..           ...       ...            ...            ...       ...    ...   \n",
       "342     0.000000  0.741117       0.673077       0.419111  0.407140  0.758   \n",
       "343     0.384615  0.690355       0.807692       0.836735  0.448980  0.700   \n",
       "344     0.076923  0.543147       0.653846       0.387755  0.407140  0.530   \n",
       "345     0.076923  0.492386       0.673077       0.306122  0.407140  0.364   \n",
       "346     0.307692  0.802030       0.750000       0.419111  0.407140  0.658   \n",
       "\n",
       "     DiabetesPedigreeFunction       Age  \n",
       "0                    0.643997  0.545455  \n",
       "1                    0.606213  0.621212  \n",
       "2                    0.303107  0.378788  \n",
       "3                    0.363560  0.333333  \n",
       "4                    0.073887  0.575758  \n",
       "..                        ...       ...  \n",
       "342                  0.280437  0.424242  \n",
       "343                  0.240134  0.530303  \n",
       "344                  0.138539  0.363636  \n",
       "345                  0.123426  0.318182  \n",
       "346                  0.674223  0.469697  \n",
       "\n",
       "[347 rows x 8 columns]"
      ]
     },
     "execution_count": 18,
     "metadata": {},
     "output_type": "execute_result"
    }
   ],
   "source": [
    "X_scaler = pd.DataFrame(data=X_values_to_standarize_scaler, columns=X_values_to_standarize.columns)\n",
    "X_scaler"
   ]
  },
  {
   "cell_type": "code",
   "execution_count": 19,
   "metadata": {},
   "outputs": [
    {
     "data": {
      "text/plain": [
       "Outcome\n",
       "0    179\n",
       "1    168\n",
       "Name: count, dtype: int64"
      ]
     },
     "execution_count": 19,
     "metadata": {},
     "output_type": "execute_result"
    }
   ],
   "source": [
    "X_train['Outcome'] = response.values\n",
    "X_train['Outcome'].value_counts()"
   ]
  },
  {
   "cell_type": "code",
   "execution_count": 20,
   "metadata": {},
   "outputs": [],
   "source": [
    "X_train.to_csv(\"../../results/4_train_dataset.csv\", index=False)"
   ]
  },
  {
   "cell_type": "code",
   "execution_count": 21,
   "metadata": {},
   "outputs": [
    {
     "data": {
      "text/plain": [
       "['../../results/scaler_process.joblib']"
      ]
     },
     "execution_count": 21,
     "metadata": {},
     "output_type": "execute_result"
    }
   ],
   "source": [
    "dump(scaler_instance, \"../../results/scaler_process.joblib\")"
   ]
  }
 ],
 "metadata": {
  "kernelspec": {
   "display_name": "Python 3",
   "language": "python",
   "name": "python3"
  },
  "language_info": {
   "codemirror_mode": {
    "name": "ipython",
    "version": 3
   },
   "file_extension": ".py",
   "mimetype": "text/x-python",
   "name": "python",
   "nbconvert_exporter": "python",
   "pygments_lexer": "ipython3",
   "version": "3.12.5"
  }
 },
 "nbformat": 4,
 "nbformat_minor": 2
}
